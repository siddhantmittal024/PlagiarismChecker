{
  "nbformat": 4,
  "nbformat_minor": 0,
  "metadata": {
    "colab": {
      "name": "PLAGIARISM_CHECKER.ipynb",
      "provenance": [],
      "collapsed_sections": []
    },
    "kernelspec": {
      "name": "python3",
      "display_name": "Python 3"
    },
    "language_info": {
      "name": "python"
    }
  },
  "cells": [
    {
      "cell_type": "markdown",
      "metadata": {
        "id": "YRQVw5n4j_PI"
      },
      "source": [
        "#### SIDDHANT MITTAL\n",
        "#### 1910110388\n",
        "#### CSD 350 PROJECT\n",
        "#### PLAGIARISM CHECKER"
      ]
    },
    {
      "cell_type": "code",
      "metadata": {
        "colab": {
          "base_uri": "https://localhost:8080/"
        },
        "id": "moYirXxVGd2v",
        "outputId": "9783dad5-9d54-4e43-8790-ae625d935436"
      },
      "source": [
        "#Importing all the required libraries and packages\n",
        "import os\n",
        "import nltk\n",
        "nltk.download('punkt')\n",
        "nltk.download('stopwords')\n",
        "from nltk.tokenize import word_tokenize\n",
        "from nltk.corpus import stopwords\n",
        "from queue import PriorityQueue\n",
        "import re\n",
        "import matplotlib.pyplot as plotGraph"
      ],
      "execution_count": 64,
      "outputs": [
        {
          "output_type": "stream",
          "name": "stdout",
          "text": [
            "[nltk_data] Downloading package punkt to /root/nltk_data...\n",
            "[nltk_data]   Package punkt is already up-to-date!\n",
            "[nltk_data] Downloading package stopwords to /root/nltk_data...\n",
            "[nltk_data]   Package stopwords is already up-to-date!\n"
          ]
        }
      ]
    },
    {
      "cell_type": "code",
      "metadata": {
        "id": "rumhKcDUdNIO"
      },
      "source": [
        "#PLEASE SEE BEFORE PROCEEDING FURTHER:\n",
        "#Upload all the text files on the colab before proceeding further\n",
        "#The text files are attached/uploaded in the main folder along with other files\n",
        "#There are total 8 text files which compute to the database that are to be uploaded.\n",
        "#If shows error in uploading please referesh the colab session and try again"
      ],
      "execution_count": 65,
      "outputs": []
    },
    {
      "cell_type": "code",
      "metadata": {
        "id": "l7GyH0ciGx0b"
      },
      "source": [
        "#Opens the file and replaces the new line and special character to space and tokenizes the data.\n",
        "def openFile(filename):\n",
        "        f=open(filename,\"r\")\n",
        "        orig=f.read().replace(\"\\n\",\" \")\n",
        "        orig = re.sub(r'[^\\w\\s]', '', orig)\n",
        "        orig = re.sub(r'[0-9]+', '', orig)\n",
        "        return word_tokenize(orig)"
      ],
      "execution_count": 66,
      "outputs": []
    },
    {
      "cell_type": "code",
      "metadata": {
        "id": "04TWL527Lvp-"
      },
      "source": [
        "#Converts the token into lower case, removes punctuation and stopwords using NLTK package\n",
        "def clean(init_token):\n",
        "        #lowercase\n",
        "        tokens_o = [token.lower() for token in init_token]\n",
        "        #stop word removal\n",
        "        stop_words=set(stopwords.words('english'))\n",
        "        #punctuation removal\n",
        "        punctuations=['\"','.','(',')',',','?',';',':',\"''\",'``']\n",
        "        filtered_tokens = [w for w in tokens_o if not w in stop_words and not w in punctuations]\n",
        "        return filtered_tokens"
      ],
      "execution_count": 67,
      "outputs": []
    },
    {
      "cell_type": "code",
      "metadata": {
        "id": "pp1RqQnULvzs"
      },
      "source": [
        "#Takes the filtered tokens and make trigrams of continuous words\n",
        "def makeTrig(clean_token):\n",
        "        trigrams=[]\n",
        "        for i in range(len(clean_token)-2):\n",
        "            t=(clean_token[i],clean_token[i+1],clean_token[i+2])\n",
        "            trigrams.append(t)\n",
        "        return trigrams"
      ],
      "execution_count": 68,
      "outputs": []
    },
    {
      "cell_type": "code",
      "metadata": {
        "id": "tcTkwtOSLv77"
      },
      "source": [
        "#Calls the above functions to pre-process the data and finally returns the list of trigrams for the particular document.\n",
        "def Preprocess(filename):\n",
        "       trig = []\n",
        "       init_token = openFile(filename)\n",
        "       clean_token = clean(init_token)\n",
        "       trig_list = makeTrig(clean_token)\n",
        "       trig = trig_list\n",
        "       return trig  "
      ],
      "execution_count": 69,
      "outputs": []
    },
    {
      "cell_type": "code",
      "metadata": {
        "id": "Fx_fB2R0LwDa"
      },
      "source": [
        "#Pre-process the corpus taking all .txt files in directory and calls the PreProcess() function for each of them.\n",
        "docList = {}\n",
        "\n",
        "def preProcessData():\n",
        "  \n",
        "    files = [doc for doc in os.listdir() if (doc.endswith(\n",
        "        '.txt') and (doc != 'DataStore.txt' and doc != 'temp.txt'))]\n",
        "    for doc in files:\n",
        "        tempTrig = []\n",
        "        tempTrig = Preprocess(doc)\n",
        "        docList[doc] = tempTrig"
      ],
      "execution_count": 70,
      "outputs": []
    },
    {
      "cell_type": "code",
      "metadata": {
        "id": "ZFrODKJnIpDP"
      },
      "source": [
        "#Stores the pre-processed corpus in a text file to avoid the computational load of pre-processing every time and loads the pre-processed data.\n",
        "\n",
        "def storeCorpusData():\n",
        "    trg = open('DataStore.txt', \"w\")\n",
        "    trg.write(str(docList))\n",
        "    trg.close()\n",
        "\n",
        "def loadCorpusData():\n",
        "    temp = open('DataStore.txt', 'r')\n",
        "    s = temp.read()\n",
        "    temp.close()\n",
        "    docList = eval(s)\n",
        "    print('a', docList)"
      ],
      "execution_count": 71,
      "outputs": []
    },
    {
      "cell_type": "code",
      "metadata": {
        "id": "h85IHDIgIw-a"
      },
      "source": [
        "#Calls the pre-processing functions\n",
        "def PP():\n",
        "    preProcessData()\n",
        "    storeCorpusData()"
      ],
      "execution_count": 72,
      "outputs": []
    },
    {
      "cell_type": "code",
      "metadata": {
        "id": "KSTguOwkIxJT"
      },
      "source": [
        "\"\"\"Calculate similarity between all the documents present in the dataset with the document to check, rank will contain number \n",
        "of trigrams matches per unit length for a given document. Document with higher priority (in the front) will have more \n",
        "similarity with the document being checked than a document with lower priority.\"\"\"\n",
        "def CalculateRank(corpus,inp):\n",
        "        rank = PriorityQueue()\n",
        "        for doc in corpus:    \n",
        "            s = 0\n",
        "            corp = corpus[doc]\n",
        "            for tri in inp:\n",
        "                if tri in corp:\n",
        "                    s+=1\n",
        "            rank.put((s/len(inp)*100,doc))\n",
        "        return rank   "
      ],
      "execution_count": 73,
      "outputs": []
    },
    {
      "cell_type": "code",
      "metadata": {
        "id": "RH4VnGm1Jcu8",
        "colab": {
          "base_uri": "https://localhost:8080/"
        },
        "outputId": "67405bd1-6dd8-434a-a0d0-4da2fe052e07"
      },
      "source": [
        "#Taking input from user\n",
        "\n",
        "#Enter file name (without .txt)\n",
        "r = input(\"Enter file name: \")\n",
        "\n",
        "#Enter the paragraph for the document to be checked(enter a sentence not single word or 2/3 words)\n",
        "t = input(\"Enter text: \")"
      ],
      "execution_count": 74,
      "outputs": [
        {
          "name": "stdout",
          "output_type": "stream",
          "text": [
            "Enter file name: TEST\n",
            "Enter text: TEXT TEXT TEXT\n"
          ]
        }
      ]
    },
    {
      "cell_type": "code",
      "metadata": {
        "id": "rXXMRE9qI4aY"
      },
      "source": [
        "#Gets the data from input boxes and pre-processes it adds the file to the corpus and finally graphs the plagiarism percentage in form of bar graph\n",
        "def graphExecution():\n",
        "    s = t\n",
        "    d = r+'.txt'\n",
        "    f = open(d, \"w\")\n",
        "    f.write(s)\n",
        "    f.close()\n",
        "    inp = Preprocess(d)\n",
        "    X = []\n",
        "    Y = []\n",
        "    doc_rank = CalculateRank(docList, inp)\n",
        "    for i in range(len(docList)):\n",
        "        item = doc_rank.get()\n",
        "        Y.append(item[0])\n",
        "        X.append(item[1])\n",
        "\n",
        "    plotGraph.bar(X, Y, width=0.5, align='center')\n",
        "    plotGraph.xlabel(\"Doc Name\")\n",
        "    plotGraph.ylabel(\"% Similarity\")\n",
        "    plotGraph.title(\"Similarity Analaysis\")\n",
        "    plotGraph.xticks(rotation=90)\n",
        "    plotGraph.tight_layout()\n",
        "    plotGraph.show()"
      ],
      "execution_count": 75,
      "outputs": []
    },
    {
      "cell_type": "code",
      "metadata": {
        "id": "W7aT4OeqI4jb"
      },
      "source": [
        "#Call the PP() function to start pre-processing\n",
        "PP()"
      ],
      "execution_count": 76,
      "outputs": []
    },
    {
      "cell_type": "code",
      "metadata": {
        "id": "gleMPYHBKPmU",
        "colab": {
          "base_uri": "https://localhost:8080/",
          "height": 297
        },
        "outputId": "451d1da2-c55c-4e18-c792-f895ca398f2a"
      },
      "source": [
        "#After pre-processing is done call the graphExecution function to calculate similarties and rank to show the graph\n",
        "graphExecution()"
      ],
      "execution_count": 77,
      "outputs": [
        {
          "output_type": "display_data",
          "data": {
            "image/png": "[encoded data removed]",
            "text/plain": [
              "<Figure size 432x288 with 1 Axes>"
            ]
          },
          "metadata": {
            "needs_background": "light"
          }
        }
      ]
    }
  ]
}